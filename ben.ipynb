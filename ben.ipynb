{
 "cells": [
  {
   "cell_type": "code",
   "execution_count": 3,
   "metadata": {},
   "outputs": [],
   "source": [
    "from src.ben.model import get_model, tokenize\n",
    "from src.loader.loader import load_data"
   ]
  },
  {
   "cell_type": "code",
   "execution_count": 5,
   "metadata": {},
   "outputs": [],
   "source": [
    "# Load\n",
    "data = load_data(sample=True)"
   ]
  },
  {
   "cell_type": "code",
   "execution_count": 7,
   "metadata": {},
   "outputs": [
    {
     "name": "stdout",
     "output_type": "stream",
     "text": [
      "_________________________________________________________________\n",
      "Layer (type)                 Output Shape              Param #   \n",
      "=================================================================\n",
      "embedding_3 (Embedding)      (None, 30, 50)            5156550   \n",
      "_________________________________________________________________\n",
      "lstm_3 (LSTM)                (None, 100)               60400     \n",
      "_________________________________________________________________\n",
      "dense_3 (Dense)              (None, 1)                 101       \n",
      "=================================================================\n",
      "Total params: 5,217,051\n",
      "Trainable params: 5,217,051\n",
      "Non-trainable params: 0\n",
      "_________________________________________________________________\n"
     ]
    }
   ],
   "source": [
    "# Tokenize & Model\n",
    "tokenized = tokenize(data['train'], data['test'])\n",
    "model = get_model(tokenized['nb_features'], tokenized['train_sequences_pad'])\n",
    "\n",
    "model.summary()"
   ]
  },
  {
   "cell_type": "code",
   "execution_count": 8,
   "metadata": {},
   "outputs": [
    {
     "name": "stdout",
     "output_type": "stream",
     "text": [
      "Train on 180000 samples, validate on 20000 samples\n",
      "Epoch 1/1\n",
      "180000/180000 [==============================] - 81s 448us/step - loss: 0.4313 - acc: 0.7935 - val_loss: 0.3940 - val_acc: 0.8134\n"
     ]
    },
    {
     "data": {
      "text/plain": [
       "<keras.callbacks.History at 0x7f54639b09e8>"
      ]
     },
     "execution_count": 8,
     "metadata": {},
     "output_type": "execute_result"
    }
   ],
   "source": [
    "# Train\n",
    "model.fit(\n",
    "    tokenized['train_sequences_pad'],\n",
    "    data['train']['label'].values,\n",
    "    validation_split=.1,\n",
    "    epochs=1,\n",
    "    batch_size=128,\n",
    "    verbose=True\n",
    ")"
   ]
  },
  {
   "cell_type": "code",
   "execution_count": null,
   "metadata": {},
   "outputs": [],
   "source": [
    "# Prediction\n",
    "pred = model.predict_proba(tokenized['train_sequences_pad'], batch_size=128)"
   ]
  },
  {
   "cell_type": "code",
   "execution_count": 2,
   "metadata": {},
   "outputs": [
    {
     "name": "stdout",
     "output_type": "stream",
     "text": [
      "\n",
      "Data summary\n",
      "                                               tweet  label\n",
      "0     <user> my name is z and i like strudels , haha      0\n",
      "1  <user> can you give us a shoutout please ? we'...      0\n",
      "2                             <user> don't do that (      1\n",
      "3  <user> hahahah they're playing kelly rowland m...      0\n",
      "                                               tweet  label\n",
      "0  1,sea doo pro sea scooter ( sports with the po...     -1\n",
      "1  2,<user> shucks well i work all week so now i ...     -1\n",
      "2          3,i cant stay away from bug thats my baby     -1\n",
      "3  4,<user> no ma'am ! ! ! lol im perfectly fine ...     -1\n",
      "\n",
      "Tokens\n",
      "[[    0     0     0 ...    34 30853    81]\n",
      " [    0     0     0 ...   784   703   137]\n",
      " [    0     0     0 ...    54    43    20]\n",
      " ...\n",
      " [    0     0     0 ...  1159    45   102]\n",
      " [    0     0     0 ...     8   889   408]\n",
      " [    0     0     0 ...   211  4811    55]]\n",
      "\n",
      "Model summary\n",
      "_________________________________________________________________\n",
      "Layer (type)                 Output Shape              Param #   \n",
      "=================================================================\n",
      "embedding_1 (Embedding)      (None, 30, 50)            5156550   \n",
      "_________________________________________________________________\n",
      "lstm_1 (LSTM)                (None, 100)               60400     \n",
      "_________________________________________________________________\n",
      "dense_1 (Dense)              (None, 1)                 101       \n",
      "=================================================================\n",
      "Total params: 5,217,051\n",
      "Trainable params: 5,217,051\n",
      "Non-trainable params: 0\n",
      "_________________________________________________________________\n",
      "None\n",
      "\n",
      "Prediction\n",
      "[[0.22058523]\n",
      " [0.05441419]\n",
      " [0.5333046 ]\n",
      " ...\n",
      " [0.1248081 ]\n",
      " [0.06447388]\n",
      " [0.9799967 ]]\n"
     ]
    }
   ],
   "source": [
    "print(\"\\nData summary\")\n",
    "print(data['train'].head(4))\n",
    "print(data['test'].head(4))\n",
    "\n",
    "print(\"\\nTokens\")\n",
    "print(tokenized['train_sequences_pad'])\n",
    "\n",
    "print(\"\\nModel summary\")\n",
    "print(model.summary())\n",
    "print(\"\\nPrediction\")\n",
    "print(pred)"
   ]
  }
 ],
 "metadata": {
  "kernelspec": {
   "display_name": "Python 3",
   "language": "python",
   "name": "python3"
  },
  "language_info": {
   "codemirror_mode": {
    "name": "ipython",
    "version": 3
   },
   "file_extension": ".py",
   "mimetype": "text/x-python",
   "name": "python",
   "nbconvert_exporter": "python",
   "pygments_lexer": "ipython3",
   "version": "3.6.5"
  }
 },
 "nbformat": 4,
 "nbformat_minor": 1
}
